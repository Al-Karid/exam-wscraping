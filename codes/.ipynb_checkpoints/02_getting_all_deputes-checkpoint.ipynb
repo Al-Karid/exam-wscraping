{
 "cells": [
  {
   "cell_type": "code",
   "execution_count": 2,
   "metadata": {
    "ExecuteTime": {
     "end_time": "2020-01-23T01:36:26.496675Z",
     "start_time": "2020-01-23T01:36:26.488282Z"
    }
   },
   "outputs": [],
   "source": [
    "import requests\n",
    "from bs4 import BeautifulSoup"
   ]
  },
  {
   "cell_type": "code",
   "execution_count": 11,
   "metadata": {
    "ExecuteTime": {
     "end_time": "2020-01-23T01:38:14.240782Z",
     "start_time": "2020-01-23T01:38:14.224314Z"
    }
   },
   "outputs": [],
   "source": [
    "import pandas as pd\n",
    "geo_links = pd.read_csv(\"geo_links.csv\", header=None)"
   ]
  },
  {
   "cell_type": "code",
   "execution_count": 3,
   "metadata": {
    "ExecuteTime": {
     "end_time": "2020-01-23T01:36:39.831124Z",
     "start_time": "2020-01-23T01:36:39.822891Z"
    }
   },
   "outputs": [],
   "source": [
    "suffix = \"&mandat=depute\""
   ]
  },
  {
   "cell_type": "code",
   "execution_count": null,
   "metadata": {
    "ExecuteTime": {
     "end_time": "2020-01-23T01:56:41.142341Z",
     "start_time": "2020-01-23T01:56:37.959285Z"
    }
   },
   "outputs": [],
   "source": [
    "req = requests.get(geo_links.iloc[5][0]+suffix)"
   ]
  },
  {
   "cell_type": "code",
   "execution_count": null,
   "metadata": {
    "ExecuteTime": {
     "end_time": "2020-01-23T01:56:41.142341Z",
     "start_time": "2020-01-23T01:56:37.959285Z"
    }
   },
   "outputs": [],
   "source": [
    "soup = BeautifulSoup(req.text, \"html.parser\")"
   ]
  },
  {
   "cell_type": "code",
   "execution_count": 61,
   "metadata": {
    "ExecuteTime": {
     "end_time": "2020-01-23T01:57:14.730252Z",
     "start_time": "2020-01-23T01:57:14.714481Z"
    }
   },
   "outputs": [
    {
     "data": {
      "text/plain": [
       "'https://www.hatvp.fr/fiche-nominative/?declarant=abadie-caroline'"
      ]
     },
     "execution_count": 61,
     "metadata": {},
     "output_type": "execute_result"
    }
   ],
   "source": [
    "soup.find_all(\"p\",class_=\"title\")[:-1][0].find(\"a\")[\"href\"]"
   ]
  },
  {
   "cell_type": "markdown",
   "metadata": {},
   "source": [
    "Recuperation de lien et sauvegarde"
   ]
  },
  {
   "cell_type": "code",
   "execution_count": 62,
   "metadata": {
    "ExecuteTime": {
     "end_time": "2020-01-23T02:01:29.784284Z",
     "start_time": "2020-01-23T01:57:27.082383Z"
    },
    "deletable": false,
    "editable": false,
    "run_control": {
     "frozen": true
    }
   },
   "outputs": [],
   "source": [
    "deputes = list()\n",
    "for _, link in geo_links.iterrows():\n",
    "    req = requests.get(link[0]+suffix)\n",
    "    soup = BeautifulSoup(req.text, \"html.parser\")\n",
    "    titles = soup.find_all(\"p\",class_=\"title\")[:-1]\n",
    "    for title in titles:\n",
    "        deputes.append(title.find(\"a\")[\"href\"])"
   ]
  },
  {
   "cell_type": "code",
   "execution_count": 67,
   "metadata": {
    "ExecuteTime": {
     "end_time": "2020-01-23T02:05:46.831901Z",
     "start_time": "2020-01-23T02:05:46.816690Z"
    },
    "deletable": false,
    "editable": false,
    "run_control": {
     "frozen": true
    }
   },
   "outputs": [],
   "source": [
    "pd.Series(deputes).to_csv(\"../data/data_02_depute_links.csv\", index=None)"
   ]
  }
 ],
 "metadata": {
  "kernelspec": {
   "display_name": "Python 3",
   "language": "python",
   "name": "python3"
  },
  "language_info": {
   "codemirror_mode": {
    "name": "ipython",
    "version": 3
   },
   "file_extension": ".py",
   "mimetype": "text/x-python",
   "name": "python",
   "nbconvert_exporter": "python",
   "pygments_lexer": "ipython3",
   "version": "3.7.0"
  },
  "varInspector": {
   "cols": {
    "lenName": 16,
    "lenType": 16,
    "lenVar": 40
   },
   "kernels_config": {
    "python": {
     "delete_cmd_postfix": "",
     "delete_cmd_prefix": "del ",
     "library": "var_list.py",
     "varRefreshCmd": "print(var_dic_list())"
    },
    "r": {
     "delete_cmd_postfix": ") ",
     "delete_cmd_prefix": "rm(",
     "library": "var_list.r",
     "varRefreshCmd": "cat(var_dic_list()) "
    }
   },
   "types_to_exclude": [
    "module",
    "function",
    "builtin_function_or_method",
    "instance",
    "_Feature"
   ],
   "window_display": false
  }
 },
 "nbformat": 4,
 "nbformat_minor": 2
}
