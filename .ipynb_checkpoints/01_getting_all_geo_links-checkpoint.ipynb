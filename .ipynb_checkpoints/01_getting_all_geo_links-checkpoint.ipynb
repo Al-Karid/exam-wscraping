{
 "cells": [
  {
   "cell_type": "code",
   "execution_count": 16,
   "metadata": {
    "ExecuteTime": {
     "end_time": "2020-01-23T01:16:10.347479Z",
     "start_time": "2020-01-23T01:16:10.343566Z"
    }
   },
   "outputs": [],
   "source": [
    "import requests\n",
    "from bs4 import BeautifulSoup"
   ]
  },
  {
   "cell_type": "code",
   "execution_count": 17,
   "metadata": {
    "ExecuteTime": {
     "end_time": "2020-01-23T01:16:13.753810Z",
     "start_time": "2020-01-23T01:16:10.857494Z"
    }
   },
   "outputs": [],
   "source": [
    "req = requests.get(\"https://www.hatvp.fr/recherche-geographique/#recherche-geo\")"
   ]
  },
  {
   "cell_type": "code",
   "execution_count": 18,
   "metadata": {
    "ExecuteTime": {
     "end_time": "2020-01-23T01:16:14.237556Z",
     "start_time": "2020-01-23T01:16:14.106748Z"
    }
   },
   "outputs": [],
   "source": [
    "soup = BeautifulSoup(req.text, \"html.parser\")"
   ]
  },
  {
   "cell_type": "code",
   "execution_count": 19,
   "metadata": {
    "ExecuteTime": {
     "end_time": "2020-01-23T01:16:14.439391Z",
     "start_time": "2020-01-23T01:16:14.407704Z"
    }
   },
   "outputs": [],
   "source": [
    "subs = soup.find_all(class_=\"sub\")"
   ]
  },
  {
   "cell_type": "code",
   "execution_count": 50,
   "metadata": {
    "ExecuteTime": {
     "end_time": "2020-01-23T01:26:01.532046Z",
     "start_time": "2020-01-23T01:26:01.522284Z"
    }
   },
   "outputs": [
    {
     "data": {
      "text/plain": [
       "'https://www.hatvp.fr/resultat-de-recherche-avancee?dep=01&geo=1'"
      ]
     },
     "execution_count": 50,
     "metadata": {},
     "output_type": "execute_result"
    }
   ],
   "source": [
    "subs[0].find_all(\"ul\", class_=\"child\")[0].find(\"ul\").find_all(\"a\")[1:][0][\"href\"]"
   ]
  },
  {
   "cell_type": "code",
   "execution_count": 51,
   "metadata": {
    "ExecuteTime": {
     "end_time": "2020-01-23T01:27:30.759439Z",
     "start_time": "2020-01-23T01:27:30.752426Z"
    }
   },
   "outputs": [],
   "source": [
    "all_links = list()\n",
    "for sub in subs:\n",
    "    links = sub.find_all(\"ul\", class_=\"child\")[0].find(\"ul\").find_all(\"a\")[1:]"
   ]
  }
 ],
 "metadata": {
  "kernelspec": {
   "display_name": "Python 3",
   "language": "python",
   "name": "python3"
  },
  "language_info": {
   "codemirror_mode": {
    "name": "ipython",
    "version": 3
   },
   "file_extension": ".py",
   "mimetype": "text/x-python",
   "name": "python",
   "nbconvert_exporter": "python",
   "pygments_lexer": "ipython3",
   "version": "3.7.0"
  },
  "varInspector": {
   "cols": {
    "lenName": 16,
    "lenType": 16,
    "lenVar": 40
   },
   "kernels_config": {
    "python": {
     "delete_cmd_postfix": "",
     "delete_cmd_prefix": "del ",
     "library": "var_list.py",
     "varRefreshCmd": "print(var_dic_list())"
    },
    "r": {
     "delete_cmd_postfix": ") ",
     "delete_cmd_prefix": "rm(",
     "library": "var_list.r",
     "varRefreshCmd": "cat(var_dic_list()) "
    }
   },
   "types_to_exclude": [
    "module",
    "function",
    "builtin_function_or_method",
    "instance",
    "_Feature"
   ],
   "window_display": false
  }
 },
 "nbformat": 4,
 "nbformat_minor": 2
}
