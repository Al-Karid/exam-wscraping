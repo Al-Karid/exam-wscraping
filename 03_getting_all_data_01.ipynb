{
 "cells": [
  {
   "cell_type": "code",
   "execution_count": 1,
   "metadata": {
    "ExecuteTime": {
     "end_time": "2020-01-23T17:21:55.732708Z",
     "start_time": "2020-01-23T17:21:55.198144Z"
    }
   },
   "outputs": [],
   "source": [
    "import requests\n",
    "import numpy as np\n",
    "from tqdm import tqdm\n",
    "from bs4 import BeautifulSoup"
   ]
  },
  {
   "cell_type": "code",
   "execution_count": 2,
   "metadata": {
    "ExecuteTime": {
     "end_time": "2020-01-23T17:21:56.578215Z",
     "start_time": "2020-01-23T17:21:55.734746Z"
    }
   },
   "outputs": [],
   "source": [
    "import pandas as pd\n",
    "depute = pd.read_csv(\"data_02_links_depute.csv\", header=None).values.flatten()"
   ]
  },
  {
   "cell_type": "code",
   "execution_count": 3,
   "metadata": {
    "ExecuteTime": {
     "end_time": "2020-01-23T17:21:56.609086Z",
     "start_time": "2020-01-23T17:21:56.584382Z"
    }
   },
   "outputs": [],
   "source": [
    "def get_depute_data(vector):\n",
    "    annees, typer, remunerations = list(), list(), list()\n",
    "    for i in list(np.arange(len(vector), step=3)):\n",
    "        annees.append(int(vector[i].strip()))\n",
    "    for i in list(np.arange(1, len(vector), step=3)):\n",
    "        remunerations.append(int(\"\".join(vector[i].strip().split(\" \")[:-1])))\n",
    "    for i in list(np.arange(2, len(vector), step=3)):\n",
    "        typer.append(vector[i].strip())\n",
    "    return annees, typer,remunerations"
   ]
  },
  {
   "cell_type": "code",
   "execution_count": 4,
   "metadata": {
    "ExecuteTime": {
     "end_time": "2020-01-23T17:21:56.723854Z",
     "start_time": "2020-01-23T17:21:56.617118Z"
    }
   },
   "outputs": [],
   "source": [
    "noms, annees, typers, remunerations = list(), list(), list(), list()"
   ]
  },
  {
   "cell_type": "code",
   "execution_count": 5,
   "metadata": {
    "ExecuteTime": {
     "end_time": "2020-01-23T17:30:48.783811Z",
     "start_time": "2020-01-23T17:21:56.727536Z"
    },
    "scrolled": false
   },
   "outputs": [
    {
     "name": "stderr",
     "output_type": "stream",
     "text": [
      "100%|████████████████████████████████████████████████████████████████████████████████| 250/250 [08:51<00:00,  2.53s/it]\n"
     ]
    }
   ],
   "source": [
    "for dep in tqdm(depute[:250]):\n",
    "    req = requests.get(dep)\n",
    "    soup = BeautifulSoup(req.text, \"html.parser\")\n",
    "    td_list = [x.text for x in soup.find_all(\"td\")]\n",
    "    annee, typer, remuneration = get_depute_data(td_list)\n",
    "    nom_depute = dep.split(\"?\")[-1].split(\"=\")[-1]\n",
    "    nom_depute = np.repeat(nom_depute, len(annee))\n",
    "    noms.append(nom_depute), annees.append(annee); typers.append(typer); remunerations.append(remuneration)"
   ]
  },
  {
   "cell_type": "code",
   "execution_count": 6,
   "metadata": {
    "ExecuteTime": {
     "end_time": "2020-01-23T17:30:48.821019Z",
     "start_time": "2020-01-23T17:30:48.789591Z"
    }
   },
   "outputs": [],
   "source": [
    "noms_d = np.concatenate(noms)\n",
    "annees_d = np.concatenate(annees)\n",
    "remunerations_d = np.concatenate(remunerations)\n",
    "typers_d = np.concatenate(typers)"
   ]
  },
  {
   "cell_type": "code",
   "execution_count": 7,
   "metadata": {
    "ExecuteTime": {
     "end_time": "2020-01-23T17:30:49.682829Z",
     "start_time": "2020-01-23T17:30:48.828446Z"
    }
   },
   "outputs": [],
   "source": [
    "data = pd.DataFrame([noms_d, annees_d, remunerations_d, typers_d]).T\n",
    "data.columns = [\"noms\",\"annees\",\"remuneration\",\"type\"]"
   ]
  },
  {
   "cell_type": "code",
   "execution_count": 8,
   "metadata": {
    "ExecuteTime": {
     "end_time": "2020-01-23T17:30:49.720138Z",
     "start_time": "2020-01-23T17:30:49.685390Z"
    }
   },
   "outputs": [
    {
     "data": {
      "text/plain": [
       "(5541, 4)"
      ]
     },
     "execution_count": 8,
     "metadata": {},
     "output_type": "execute_result"
    }
   ],
   "source": [
    "data.shape"
   ]
  },
  {
   "cell_type": "code",
   "execution_count": 9,
   "metadata": {
    "ExecuteTime": {
     "end_time": "2020-01-23T17:30:49.832293Z",
     "start_time": "2020-01-23T17:30:49.723073Z"
    }
   },
   "outputs": [
    {
     "data": {
      "text/html": [
       "<div>\n",
       "<style scoped>\n",
       "    .dataframe tbody tr th:only-of-type {\n",
       "        vertical-align: middle;\n",
       "    }\n",
       "\n",
       "    .dataframe tbody tr th {\n",
       "        vertical-align: top;\n",
       "    }\n",
       "\n",
       "    .dataframe thead th {\n",
       "        text-align: right;\n",
       "    }\n",
       "</style>\n",
       "<table border=\"1\" class=\"dataframe\">\n",
       "  <thead>\n",
       "    <tr style=\"text-align: right;\">\n",
       "      <th></th>\n",
       "      <th>noms</th>\n",
       "      <th>annees</th>\n",
       "      <th>remuneration</th>\n",
       "      <th>type</th>\n",
       "    </tr>\n",
       "  </thead>\n",
       "  <tbody>\n",
       "    <tr>\n",
       "      <th>0</th>\n",
       "      <td>abad-damien</td>\n",
       "      <td>2015</td>\n",
       "      <td>0</td>\n",
       "      <td>Brut</td>\n",
       "    </tr>\n",
       "    <tr>\n",
       "      <th>1</th>\n",
       "      <td>abad-damien</td>\n",
       "      <td>2016</td>\n",
       "      <td>0</td>\n",
       "      <td>Brut</td>\n",
       "    </tr>\n",
       "    <tr>\n",
       "      <th>2</th>\n",
       "      <td>abad-damien</td>\n",
       "      <td>2017</td>\n",
       "      <td>0</td>\n",
       "      <td>Brut</td>\n",
       "    </tr>\n",
       "    <tr>\n",
       "      <th>3</th>\n",
       "      <td>abad-damien</td>\n",
       "      <td>2017</td>\n",
       "      <td>0</td>\n",
       "      <td>Brut</td>\n",
       "    </tr>\n",
       "    <tr>\n",
       "      <th>4</th>\n",
       "      <td>abad-damien</td>\n",
       "      <td>2018</td>\n",
       "      <td>0</td>\n",
       "      <td>Brut</td>\n",
       "    </tr>\n",
       "  </tbody>\n",
       "</table>\n",
       "</div>"
      ],
      "text/plain": [
       "          noms annees remuneration  type\n",
       "0  abad-damien   2015            0  Brut\n",
       "1  abad-damien   2016            0  Brut\n",
       "2  abad-damien   2017            0  Brut\n",
       "3  abad-damien   2017            0  Brut\n",
       "4  abad-damien   2018            0  Brut"
      ]
     },
     "execution_count": 9,
     "metadata": {},
     "output_type": "execute_result"
    }
   ],
   "source": [
    "data.head()"
   ]
  },
  {
   "cell_type": "code",
   "execution_count": 11,
   "metadata": {
    "ExecuteTime": {
     "end_time": "2020-01-23T17:35:40.401787Z",
     "start_time": "2020-01-23T17:35:40.362629Z"
    },
    "deletable": false,
    "editable": false,
    "run_control": {
     "frozen": true
    }
   },
   "outputs": [],
   "source": [
    "data.to_csv(\"data_03_full_01.csv\", index=None)"
   ]
  }
 ],
 "metadata": {
  "kernelspec": {
   "display_name": "Python 3",
   "language": "python",
   "name": "python3"
  },
  "language_info": {
   "codemirror_mode": {
    "name": "ipython",
    "version": 3
   },
   "file_extension": ".py",
   "mimetype": "text/x-python",
   "name": "python",
   "nbconvert_exporter": "python",
   "pygments_lexer": "ipython3",
   "version": "3.7.0"
  },
  "varInspector": {
   "cols": {
    "lenName": 16,
    "lenType": 16,
    "lenVar": 40
   },
   "kernels_config": {
    "python": {
     "delete_cmd_postfix": "",
     "delete_cmd_prefix": "del ",
     "library": "var_list.py",
     "varRefreshCmd": "print(var_dic_list())"
    },
    "r": {
     "delete_cmd_postfix": ") ",
     "delete_cmd_prefix": "rm(",
     "library": "var_list.r",
     "varRefreshCmd": "cat(var_dic_list()) "
    }
   },
   "types_to_exclude": [
    "module",
    "function",
    "builtin_function_or_method",
    "instance",
    "_Feature"
   ],
   "window_display": false
  }
 },
 "nbformat": 4,
 "nbformat_minor": 2
}
