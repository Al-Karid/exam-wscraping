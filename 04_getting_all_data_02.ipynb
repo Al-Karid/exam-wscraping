{
 "cells": [
  {
   "cell_type": "code",
   "execution_count": 1,
   "metadata": {
    "ExecuteTime": {
     "end_time": "2020-01-23T17:18:26.137981Z",
     "start_time": "2020-01-23T17:18:25.504453Z"
    }
   },
   "outputs": [],
   "source": [
    "import requests\n",
    "import numpy as np\n",
    "from tqdm import tqdm\n",
    "from bs4 import BeautifulSoup"
   ]
  },
  {
   "cell_type": "code",
   "execution_count": 2,
   "metadata": {
    "ExecuteTime": {
     "end_time": "2020-01-23T17:18:27.058500Z",
     "start_time": "2020-01-23T17:18:26.144989Z"
    }
   },
   "outputs": [],
   "source": [
    "import pandas as pd\n",
    "depute = pd.read_csv(\"data_02_links_depute.csv\", header=None).values.flatten()"
   ]
  },
  {
   "cell_type": "code",
   "execution_count": 3,
   "metadata": {
    "ExecuteTime": {
     "end_time": "2020-01-23T17:18:27.078079Z",
     "start_time": "2020-01-23T17:18:27.063670Z"
    }
   },
   "outputs": [],
   "source": [
    "def get_depute_data(vector):\n",
    "    annees, typer, remunerations = list(), list(), list()\n",
    "    for i in list(np.arange(len(vector), step=3)):\n",
    "        annees.append(int(vector[i].strip()))\n",
    "    for i in list(np.arange(1, len(vector), step=3)):\n",
    "        remunerations.append(int(\"\".join(vector[i].strip().split(\" \")[:-1])))\n",
    "    for i in list(np.arange(2, len(vector), step=3)):\n",
    "        typer.append(vector[i].strip())\n",
    "    return annees, typer,remunerations"
   ]
  },
  {
   "cell_type": "code",
   "execution_count": 4,
   "metadata": {
    "ExecuteTime": {
     "end_time": "2020-01-23T17:18:27.184019Z",
     "start_time": "2020-01-23T17:18:27.087769Z"
    }
   },
   "outputs": [],
   "source": [
    "noms, annees, typers, remunerations = list(), list(), list(), list()"
   ]
  },
  {
   "cell_type": "code",
   "execution_count": 5,
   "metadata": {
    "ExecuteTime": {
     "end_time": "2020-01-23T17:28:18.897952Z",
     "start_time": "2020-01-23T17:18:27.193038Z"
    },
    "scrolled": true
   },
   "outputs": [
    {
     "name": "stderr",
     "output_type": "stream",
     "text": [
      "100%|████████████████████████████████████████████████████████████████████████████████| 288/288 [09:51<00:00,  1.89s/it]\n"
     ]
    }
   ],
   "source": [
    "for dep in tqdm(depute[251:]):\n",
    "    req = requests.get(dep)\n",
    "    soup = BeautifulSoup(req.text, \"html.parser\")\n",
    "    td_list = [x.text for x in soup.find_all(\"td\")]\n",
    "    annee, typer, remuneration = get_depute_data(td_list)\n",
    "    nom_depute = dep.split(\"?\")[-1].split(\"=\")[-1]\n",
    "    nom_depute = np.repeat(nom_depute, len(annee))\n",
    "    noms.append(nom_depute), annees.append(annee); typers.append(typer); remunerations.append(remuneration)"
   ]
  },
  {
   "cell_type": "code",
   "execution_count": 6,
   "metadata": {
    "ExecuteTime": {
     "end_time": "2020-01-23T17:28:18.974101Z",
     "start_time": "2020-01-23T17:28:18.903218Z"
    }
   },
   "outputs": [],
   "source": [
    "noms_d = np.concatenate(noms)\n",
    "annees_d = np.concatenate(annees)\n",
    "remunerations_d = np.concatenate(remunerations)\n",
    "typers_d = np.concatenate(typers)"
   ]
  },
  {
   "cell_type": "code",
   "execution_count": 7,
   "metadata": {
    "ExecuteTime": {
     "end_time": "2020-01-23T17:28:19.666390Z",
     "start_time": "2020-01-23T17:28:18.976717Z"
    }
   },
   "outputs": [],
   "source": [
    "data = pd.DataFrame([noms_d, annees_d, remunerations_d, typers_d]).T\n",
    "data.columns = [\"noms\",\"annees\",\"remuneration\",\"type\"]"
   ]
  },
  {
   "cell_type": "code",
   "execution_count": 8,
   "metadata": {
    "ExecuteTime": {
     "end_time": "2020-01-23T17:28:19.714330Z",
     "start_time": "2020-01-23T17:28:19.670319Z"
    }
   },
   "outputs": [
    {
     "data": {
      "text/plain": [
       "(4796, 4)"
      ]
     },
     "execution_count": 8,
     "metadata": {},
     "output_type": "execute_result"
    }
   ],
   "source": [
    "data.shape"
   ]
  },
  {
   "cell_type": "code",
   "execution_count": 9,
   "metadata": {
    "ExecuteTime": {
     "end_time": "2020-01-23T17:28:19.920833Z",
     "start_time": "2020-01-23T17:28:19.716543Z"
    }
   },
   "outputs": [
    {
     "data": {
      "text/html": [
       "<div>\n",
       "<style scoped>\n",
       "    .dataframe tbody tr th:only-of-type {\n",
       "        vertical-align: middle;\n",
       "    }\n",
       "\n",
       "    .dataframe tbody tr th {\n",
       "        vertical-align: top;\n",
       "    }\n",
       "\n",
       "    .dataframe thead th {\n",
       "        text-align: right;\n",
       "    }\n",
       "</style>\n",
       "<table border=\"1\" class=\"dataframe\">\n",
       "  <thead>\n",
       "    <tr style=\"text-align: right;\">\n",
       "      <th></th>\n",
       "      <th>noms</th>\n",
       "      <th>annees</th>\n",
       "      <th>remuneration</th>\n",
       "      <th>type</th>\n",
       "    </tr>\n",
       "  </thead>\n",
       "  <tbody>\n",
       "    <tr>\n",
       "      <th>0</th>\n",
       "      <td>guerini-stanislas</td>\n",
       "      <td>2013</td>\n",
       "      <td>27928</td>\n",
       "      <td>Net</td>\n",
       "    </tr>\n",
       "    <tr>\n",
       "      <th>1</th>\n",
       "      <td>guerini-stanislas</td>\n",
       "      <td>2014</td>\n",
       "      <td>74920</td>\n",
       "      <td>Net</td>\n",
       "    </tr>\n",
       "    <tr>\n",
       "      <th>2</th>\n",
       "      <td>guerini-stanislas</td>\n",
       "      <td>2015</td>\n",
       "      <td>85496</td>\n",
       "      <td>Net</td>\n",
       "    </tr>\n",
       "    <tr>\n",
       "      <th>3</th>\n",
       "      <td>guerini-stanislas</td>\n",
       "      <td>2016</td>\n",
       "      <td>97055</td>\n",
       "      <td>Net</td>\n",
       "    </tr>\n",
       "    <tr>\n",
       "      <th>4</th>\n",
       "      <td>guerini-stanislas</td>\n",
       "      <td>2017</td>\n",
       "      <td>44315</td>\n",
       "      <td>Net</td>\n",
       "    </tr>\n",
       "  </tbody>\n",
       "</table>\n",
       "</div>"
      ],
      "text/plain": [
       "                noms annees remuneration type\n",
       "0  guerini-stanislas   2013        27928  Net\n",
       "1  guerini-stanislas   2014        74920  Net\n",
       "2  guerini-stanislas   2015        85496  Net\n",
       "3  guerini-stanislas   2016        97055  Net\n",
       "4  guerini-stanislas   2017        44315  Net"
      ]
     },
     "execution_count": 9,
     "metadata": {},
     "output_type": "execute_result"
    }
   ],
   "source": [
    "data.head()"
   ]
  },
  {
   "cell_type": "code",
   "execution_count": 12,
   "metadata": {
    "ExecuteTime": {
     "end_time": "2020-01-23T17:35:28.138900Z",
     "start_time": "2020-01-23T17:35:28.105896Z"
    },
    "deletable": false,
    "editable": false,
    "run_control": {
     "frozen": true
    }
   },
   "outputs": [],
   "source": [
    "data.to_csv(\"data_03_full_02.csv\", index=None)"
   ]
  }
 ],
 "metadata": {
  "kernelspec": {
   "display_name": "Python 3",
   "language": "python",
   "name": "python3"
  },
  "language_info": {
   "codemirror_mode": {
    "name": "ipython",
    "version": 3
   },
   "file_extension": ".py",
   "mimetype": "text/x-python",
   "name": "python",
   "nbconvert_exporter": "python",
   "pygments_lexer": "ipython3",
   "version": "3.7.0"
  },
  "varInspector": {
   "cols": {
    "lenName": 16,
    "lenType": 16,
    "lenVar": 40
   },
   "kernels_config": {
    "python": {
     "delete_cmd_postfix": "",
     "delete_cmd_prefix": "del ",
     "library": "var_list.py",
     "varRefreshCmd": "print(var_dic_list())"
    },
    "r": {
     "delete_cmd_postfix": ") ",
     "delete_cmd_prefix": "rm(",
     "library": "var_list.r",
     "varRefreshCmd": "cat(var_dic_list()) "
    }
   },
   "types_to_exclude": [
    "module",
    "function",
    "builtin_function_or_method",
    "instance",
    "_Feature"
   ],
   "window_display": false
  }
 },
 "nbformat": 4,
 "nbformat_minor": 2
}
